{
  "nbformat": 4,
  "nbformat_minor": 0,
  "metadata": {
    "colab": {
      "provenance": [],
      "authorship_tag": "ABX9TyPTfVCOy+/yqJYavkSEGem2",
      "include_colab_link": true
    },
    "kernelspec": {
      "name": "python3",
      "display_name": "Python 3"
    },
    "language_info": {
      "name": "python"
    }
  },
  "cells": [
    {
      "cell_type": "markdown",
      "metadata": {
        "id": "view-in-github",
        "colab_type": "text"
      },
      "source": [
        "<a href=\"https://colab.research.google.com/github/Akshay15042002/practice/blob/main/pandas.ipynb\" target=\"_parent\"><img src=\"https://colab.research.google.com/assets/colab-badge.svg\" alt=\"Open In Colab\"/></a>"
      ]
    },
    {
      "cell_type": "code",
      "execution_count": 1,
      "metadata": {
        "colab": {
          "base_uri": "https://localhost:8080/"
        },
        "id": "cqCUGkePpO8r",
        "outputId": "e18fef2e-134f-4f20-9cb0-dbc680a8309d"
      },
      "outputs": [
        {
          "output_type": "stream",
          "name": "stdout",
          "text": [
            "          f         g         h         i         j\n",
            "a  1.764052  0.400157  0.978738  2.240893  1.867558\n",
            "b -0.977278  0.950088 -0.151357 -0.103219  0.410599\n",
            "c  0.144044  1.454274  0.761038  0.121675  0.443863\n",
            "d  0.333674  1.494079 -0.205158  0.313068 -0.854096\n",
            "e -2.552990  0.653619  0.864436 -0.742165  2.269755\n",
            "          f         g\n",
            "a  1.764052  0.400157\n",
            "b -0.977278  0.950088\n",
            "c  0.144044  1.454274\n",
            "d  0.333674  1.494079\n",
            "e -2.552990  0.653619\n",
            "<class 'pandas.core.frame.DataFrame'>\n",
            "          f         g         h         i\n",
            "a  1.764052  0.400157  0.978738  2.240893\n",
            "b -0.977278  0.950088 -0.151357 -0.103219\n",
            "c  0.144044  1.454274  0.761038  0.121675\n",
            "d  0.333674  1.494079 -0.205158  0.313068\n",
            "e -2.552990  0.653619  0.864436 -0.742165\n",
            "f    1.764052\n",
            "g    0.400157\n",
            "h    0.978738\n",
            "i    2.240893\n",
            "Name: a, dtype: float64\n",
            "f    1.764052\n",
            "g    0.400157\n",
            "h    0.978738\n",
            "i    2.240893\n",
            "Name: a, dtype: float64\n",
            "          f         g         h         i\n",
            "a  1.764052  0.400157  0.978738  2.240893\n",
            "b -0.977278  0.950088 -0.151357 -0.103219\n",
            "          v         w         x         y         z\n",
            "a  1.764052  0.400157  0.978738  2.240893  1.867558\n",
            "b -0.977278  0.950088 -0.151357 -0.103219  0.410599\n",
            "c  0.144044  1.454274  0.761038  0.121675  0.443863\n",
            "d  0.333674  1.494079 -0.205158  0.313068 -0.854096\n",
            "e -2.552990  0.653619  0.864436 -0.742165  2.269755\n",
            "1.764052345967664\n",
            "          v         w\n",
            "a  1.764052  0.400157\n",
            "b -0.977278  0.950088\n"
          ]
        }
      ],
      "source": [
        "import pandas as pd\n",
        "import numpy as np\n",
        "from numpy.random import randn as rn\n",
        "np.random.seed(0)\n",
        "matrix_data=rn(5,5)\n",
        "row_label=['a','b','c','d','e']\n",
        "col_label=['f','g','h','i','j']\n",
        "df=pd.DataFrame(matrix_data,row_label,col_label)\n",
        "print(df)\n",
        "print(df[['f','g']])\n",
        "print(type(df[['f','g']]))\n",
        "df.drop('j',axis=1,inplace=True)\n",
        "print(df)\n",
        "\n",
        "print(df.loc['a'])#for single row usind index names\n",
        "print(df.iloc[0])#for single row using index values\n",
        "print(df.iloc[[0,1]])#double rows\n",
        "\n",
        "\n",
        "np.random.seed(0)\n",
        "matrix_data=rn(5,5)\n",
        "row_label=['a','b','c','d','e']\n",
        "col_label=['v','w','x','y','z']\n",
        "df=pd.DataFrame(matrix_data,row_label,col_label)\n",
        "print(df)\n",
        "print(df.loc['a','v'])   #row value with column position(0,0)\n",
        "print(df.loc[['a','b'],['v','w']])    #[rows],[column]comprising"
      ]
    }
  ]
}