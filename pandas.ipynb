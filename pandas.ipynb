{
  "nbformat": 4,
  "nbformat_minor": 0,
  "metadata": {
    "colab": {
      "provenance": [],
      "authorship_tag": "ABX9TyOMBhcBaPNJJk41XADDqGRw",
      "include_colab_link": true
    },
    "kernelspec": {
      "name": "python3",
      "display_name": "Python 3"
    },
    "language_info": {
      "name": "python"
    }
  },
  "cells": [
    {
      "cell_type": "markdown",
      "metadata": {
        "id": "view-in-github",
        "colab_type": "text"
      },
      "source": [
        "<a href=\"https://colab.research.google.com/github/Akshay15042002/practice/blob/main/pandas.ipynb\" target=\"_parent\"><img src=\"https://colab.research.google.com/assets/colab-badge.svg\" alt=\"Open In Colab\"/></a>"
      ]
    },
    {
      "cell_type": "code",
      "source": [
        "print(df>0)\n",
        "print(df.loc[['a','b','c']]>0)\n",
        "booldf=df>0\n",
        "df[booldf]\n"
      ],
      "metadata": {
        "colab": {
          "base_uri": "https://localhost:8080/",
          "height": 379
        },
        "id": "b4jTrQ6VWIIS",
        "outputId": "b93559e9-e395-4219-bbdc-8be79081861a"
      },
      "execution_count": 3,
      "outputs": [
        {
          "output_type": "stream",
          "name": "stdout",
          "text": [
            "       v     w      x      y      z\n",
            "a   True  True   True   True   True\n",
            "b  False  True  False  False   True\n",
            "c   True  True   True   True   True\n",
            "d   True  True  False   True  False\n",
            "e  False  True   True  False   True\n",
            "       v     w      x      y     z\n",
            "a   True  True   True   True  True\n",
            "b  False  True  False  False  True\n",
            "c   True  True   True   True  True\n"
          ]
        },
        {
          "output_type": "execute_result",
          "data": {
            "text/plain": [
              "          v         w         x         y         z\n",
              "a  1.764052  0.400157  0.978738  2.240893  1.867558\n",
              "b       NaN  0.950088       NaN       NaN  0.410599\n",
              "c  0.144044  1.454274  0.761038  0.121675  0.443863\n",
              "d  0.333674  1.494079       NaN  0.313068       NaN\n",
              "e       NaN  0.653619  0.864436       NaN  2.269755"
            ],
            "text/html": [
              "\n",
              "  <div id=\"df-a44f3b55-7e00-4784-8dad-2be0654bb90a\">\n",
              "    <div class=\"colab-df-container\">\n",
              "      <div>\n",
              "<style scoped>\n",
              "    .dataframe tbody tr th:only-of-type {\n",
              "        vertical-align: middle;\n",
              "    }\n",
              "\n",
              "    .dataframe tbody tr th {\n",
              "        vertical-align: top;\n",
              "    }\n",
              "\n",
              "    .dataframe thead th {\n",
              "        text-align: right;\n",
              "    }\n",
              "</style>\n",
              "<table border=\"1\" class=\"dataframe\">\n",
              "  <thead>\n",
              "    <tr style=\"text-align: right;\">\n",
              "      <th></th>\n",
              "      <th>v</th>\n",
              "      <th>w</th>\n",
              "      <th>x</th>\n",
              "      <th>y</th>\n",
              "      <th>z</th>\n",
              "    </tr>\n",
              "  </thead>\n",
              "  <tbody>\n",
              "    <tr>\n",
              "      <th>a</th>\n",
              "      <td>1.764052</td>\n",
              "      <td>0.400157</td>\n",
              "      <td>0.978738</td>\n",
              "      <td>2.240893</td>\n",
              "      <td>1.867558</td>\n",
              "    </tr>\n",
              "    <tr>\n",
              "      <th>b</th>\n",
              "      <td>NaN</td>\n",
              "      <td>0.950088</td>\n",
              "      <td>NaN</td>\n",
              "      <td>NaN</td>\n",
              "      <td>0.410599</td>\n",
              "    </tr>\n",
              "    <tr>\n",
              "      <th>c</th>\n",
              "      <td>0.144044</td>\n",
              "      <td>1.454274</td>\n",
              "      <td>0.761038</td>\n",
              "      <td>0.121675</td>\n",
              "      <td>0.443863</td>\n",
              "    </tr>\n",
              "    <tr>\n",
              "      <th>d</th>\n",
              "      <td>0.333674</td>\n",
              "      <td>1.494079</td>\n",
              "      <td>NaN</td>\n",
              "      <td>0.313068</td>\n",
              "      <td>NaN</td>\n",
              "    </tr>\n",
              "    <tr>\n",
              "      <th>e</th>\n",
              "      <td>NaN</td>\n",
              "      <td>0.653619</td>\n",
              "      <td>0.864436</td>\n",
              "      <td>NaN</td>\n",
              "      <td>2.269755</td>\n",
              "    </tr>\n",
              "  </tbody>\n",
              "</table>\n",
              "</div>\n",
              "      <button class=\"colab-df-convert\" onclick=\"convertToInteractive('df-a44f3b55-7e00-4784-8dad-2be0654bb90a')\"\n",
              "              title=\"Convert this dataframe to an interactive table.\"\n",
              "              style=\"display:none;\">\n",
              "        \n",
              "  <svg xmlns=\"http://www.w3.org/2000/svg\" height=\"24px\"viewBox=\"0 0 24 24\"\n",
              "       width=\"24px\">\n",
              "    <path d=\"M0 0h24v24H0V0z\" fill=\"none\"/>\n",
              "    <path d=\"M18.56 5.44l.94 2.06.94-2.06 2.06-.94-2.06-.94-.94-2.06-.94 2.06-2.06.94zm-11 1L8.5 8.5l.94-2.06 2.06-.94-2.06-.94L8.5 2.5l-.94 2.06-2.06.94zm10 10l.94 2.06.94-2.06 2.06-.94-2.06-.94-.94-2.06-.94 2.06-2.06.94z\"/><path d=\"M17.41 7.96l-1.37-1.37c-.4-.4-.92-.59-1.43-.59-.52 0-1.04.2-1.43.59L10.3 9.45l-7.72 7.72c-.78.78-.78 2.05 0 2.83L4 21.41c.39.39.9.59 1.41.59.51 0 1.02-.2 1.41-.59l7.78-7.78 2.81-2.81c.8-.78.8-2.07 0-2.86zM5.41 20L4 18.59l7.72-7.72 1.47 1.35L5.41 20z\"/>\n",
              "  </svg>\n",
              "      </button>\n",
              "      \n",
              "  <style>\n",
              "    .colab-df-container {\n",
              "      display:flex;\n",
              "      flex-wrap:wrap;\n",
              "      gap: 12px;\n",
              "    }\n",
              "\n",
              "    .colab-df-convert {\n",
              "      background-color: #E8F0FE;\n",
              "      border: none;\n",
              "      border-radius: 50%;\n",
              "      cursor: pointer;\n",
              "      display: none;\n",
              "      fill: #1967D2;\n",
              "      height: 32px;\n",
              "      padding: 0 0 0 0;\n",
              "      width: 32px;\n",
              "    }\n",
              "\n",
              "    .colab-df-convert:hover {\n",
              "      background-color: #E2EBFA;\n",
              "      box-shadow: 0px 1px 2px rgba(60, 64, 67, 0.3), 0px 1px 3px 1px rgba(60, 64, 67, 0.15);\n",
              "      fill: #174EA6;\n",
              "    }\n",
              "\n",
              "    [theme=dark] .colab-df-convert {\n",
              "      background-color: #3B4455;\n",
              "      fill: #D2E3FC;\n",
              "    }\n",
              "\n",
              "    [theme=dark] .colab-df-convert:hover {\n",
              "      background-color: #434B5C;\n",
              "      box-shadow: 0px 1px 3px 1px rgba(0, 0, 0, 0.15);\n",
              "      filter: drop-shadow(0px 1px 2px rgba(0, 0, 0, 0.3));\n",
              "      fill: #FFFFFF;\n",
              "    }\n",
              "  </style>\n",
              "\n",
              "      <script>\n",
              "        const buttonEl =\n",
              "          document.querySelector('#df-a44f3b55-7e00-4784-8dad-2be0654bb90a button.colab-df-convert');\n",
              "        buttonEl.style.display =\n",
              "          google.colab.kernel.accessAllowed ? 'block' : 'none';\n",
              "\n",
              "        async function convertToInteractive(key) {\n",
              "          const element = document.querySelector('#df-a44f3b55-7e00-4784-8dad-2be0654bb90a');\n",
              "          const dataTable =\n",
              "            await google.colab.kernel.invokeFunction('convertToInteractive',\n",
              "                                                     [key], {});\n",
              "          if (!dataTable) return;\n",
              "\n",
              "          const docLinkHtml = 'Like what you see? Visit the ' +\n",
              "            '<a target=\"_blank\" href=https://colab.research.google.com/notebooks/data_table.ipynb>data table notebook</a>'\n",
              "            + ' to learn more about interactive tables.';\n",
              "          element.innerHTML = '';\n",
              "          dataTable['output_type'] = 'display_data';\n",
              "          await google.colab.output.renderOutput(dataTable, element);\n",
              "          const docLink = document.createElement('div');\n",
              "          docLink.innerHTML = docLinkHtml;\n",
              "          element.appendChild(docLink);\n",
              "        }\n",
              "      </script>\n",
              "    </div>\n",
              "  </div>\n",
              "  "
            ]
          },
          "metadata": {},
          "execution_count": 3
        }
      ]
    },
    {
      "cell_type": "code",
      "execution_count": 2,
      "metadata": {
        "colab": {
          "base_uri": "https://localhost:8080/"
        },
        "id": "cqCUGkePpO8r",
        "outputId": "74be376b-de50-4d52-d60d-a79289aa8ca1"
      },
      "outputs": [
        {
          "output_type": "stream",
          "name": "stdout",
          "text": [
            "          f         g         h         i         j\n",
            "a  1.764052  0.400157  0.978738  2.240893  1.867558\n",
            "b -0.977278  0.950088 -0.151357 -0.103219  0.410599\n",
            "c  0.144044  1.454274  0.761038  0.121675  0.443863\n",
            "d  0.333674  1.494079 -0.205158  0.313068 -0.854096\n",
            "e -2.552990  0.653619  0.864436 -0.742165  2.269755\n",
            "          f         g\n",
            "a  1.764052  0.400157\n",
            "b -0.977278  0.950088\n",
            "c  0.144044  1.454274\n",
            "d  0.333674  1.494079\n",
            "e -2.552990  0.653619\n",
            "<class 'pandas.core.frame.DataFrame'>\n",
            "          f         g         h         i\n",
            "a  1.764052  0.400157  0.978738  2.240893\n",
            "b -0.977278  0.950088 -0.151357 -0.103219\n",
            "c  0.144044  1.454274  0.761038  0.121675\n",
            "d  0.333674  1.494079 -0.205158  0.313068\n",
            "e -2.552990  0.653619  0.864436 -0.742165\n",
            "f    1.764052\n",
            "g    0.400157\n",
            "h    0.978738\n",
            "i    2.240893\n",
            "Name: a, dtype: float64\n",
            "f    1.764052\n",
            "g    0.400157\n",
            "h    0.978738\n",
            "i    2.240893\n",
            "Name: a, dtype: float64\n",
            "          f         g         h         i\n",
            "a  1.764052  0.400157  0.978738  2.240893\n",
            "b -0.977278  0.950088 -0.151357 -0.103219\n",
            "          v         w         x         y         z\n",
            "a  1.764052  0.400157  0.978738  2.240893  1.867558\n",
            "b -0.977278  0.950088 -0.151357 -0.103219  0.410599\n",
            "c  0.144044  1.454274  0.761038  0.121675  0.443863\n",
            "d  0.333674  1.494079 -0.205158  0.313068 -0.854096\n",
            "e -2.552990  0.653619  0.864436 -0.742165  2.269755\n",
            "1.764052345967664\n",
            "          v         w\n",
            "a  1.764052  0.400157\n",
            "b -0.977278  0.950088\n"
          ]
        }
      ],
      "source": [
        "#Using Loc and iloc\n",
        "import pandas as pd\n",
        "import numpy as np\n",
        "from numpy.random import randn as rn\n",
        "np.random.seed(0)\n",
        "matrix_data=rn(5,5)\n",
        "row_label=['a','b','c','d','e']\n",
        "col_label=['f','g','h','i','j']\n",
        "df=pd.DataFrame(matrix_data,row_label,col_label)\n",
        "print(df)\n",
        "print(df[['f','g']])\n",
        "print(type(df[['f','g']]))\n",
        "df.drop('j',axis=1,inplace=True)\n",
        "print(df)\n",
        "\n",
        "print(df.loc['a'])#for single row usind index names\n",
        "print(df.iloc[0])#for single row using index values\n",
        "print(df.iloc[[0,1]])#double rows\n",
        "\n",
        "\n",
        "np.random.seed(0)\n",
        "matrix_data=rn(5,5)\n",
        "row_label=['a','b','c','d','e']\n",
        "col_label=['v','w','x','y','z']\n",
        "df=pd.DataFrame(matrix_data,row_label,col_label)\n",
        "print(df)\n",
        "print(df.loc['a','v'])   #row value with column position(0,0)\n",
        "print(df.loc[['a','b'],['v','w']])    #[rows],[column]comprising"
      ]
    },
    {
      "cell_type": "markdown",
      "source": [
        "**MISSING VALUES**"
      ],
      "metadata": {
        "id": "15Ro3vlDZLSj"
      }
    },
    {
      "cell_type": "code",
      "source": [
        "df=pd.DataFrame({'a':[1,np.nan,2],'b':[2,np.nan,np.nan],'c':[3,4,np.nan]})\n",
        "df['st']='ca ba aa'.split()\n",
        "df.set_index('st',inplace=True)\n",
        "print(df)\n",
        "print(df.fillna(value=df['a'].mean()))\n",
        "df.dropna(axis=0)"
      ],
      "metadata": {
        "colab": {
          "base_uri": "https://localhost:8080/",
          "height": 285
        },
        "id": "7XNz4IB5ZaKE",
        "outputId": "e2d69989-3939-497f-9ffb-59aae9d40692"
      },
      "execution_count": 4,
      "outputs": [
        {
          "output_type": "stream",
          "name": "stdout",
          "text": [
            "      a    b    c\n",
            "st               \n",
            "ca  1.0  2.0  3.0\n",
            "ba  NaN  NaN  4.0\n",
            "aa  2.0  NaN  NaN\n",
            "      a    b    c\n",
            "st               \n",
            "ca  1.0  2.0  3.0\n",
            "ba  1.5  1.5  4.0\n",
            "aa  2.0  1.5  1.5\n"
          ]
        },
        {
          "output_type": "execute_result",
          "data": {
            "text/plain": [
              "      a    b    c\n",
              "st               \n",
              "ca  1.0  2.0  3.0"
            ],
            "text/html": [
              "\n",
              "  <div id=\"df-e5b4db49-0251-4209-8b46-255583dd225d\">\n",
              "    <div class=\"colab-df-container\">\n",
              "      <div>\n",
              "<style scoped>\n",
              "    .dataframe tbody tr th:only-of-type {\n",
              "        vertical-align: middle;\n",
              "    }\n",
              "\n",
              "    .dataframe tbody tr th {\n",
              "        vertical-align: top;\n",
              "    }\n",
              "\n",
              "    .dataframe thead th {\n",
              "        text-align: right;\n",
              "    }\n",
              "</style>\n",
              "<table border=\"1\" class=\"dataframe\">\n",
              "  <thead>\n",
              "    <tr style=\"text-align: right;\">\n",
              "      <th></th>\n",
              "      <th>a</th>\n",
              "      <th>b</th>\n",
              "      <th>c</th>\n",
              "    </tr>\n",
              "    <tr>\n",
              "      <th>st</th>\n",
              "      <th></th>\n",
              "      <th></th>\n",
              "      <th></th>\n",
              "    </tr>\n",
              "  </thead>\n",
              "  <tbody>\n",
              "    <tr>\n",
              "      <th>ca</th>\n",
              "      <td>1.0</td>\n",
              "      <td>2.0</td>\n",
              "      <td>3.0</td>\n",
              "    </tr>\n",
              "  </tbody>\n",
              "</table>\n",
              "</div>\n",
              "      <button class=\"colab-df-convert\" onclick=\"convertToInteractive('df-e5b4db49-0251-4209-8b46-255583dd225d')\"\n",
              "              title=\"Convert this dataframe to an interactive table.\"\n",
              "              style=\"display:none;\">\n",
              "        \n",
              "  <svg xmlns=\"http://www.w3.org/2000/svg\" height=\"24px\"viewBox=\"0 0 24 24\"\n",
              "       width=\"24px\">\n",
              "    <path d=\"M0 0h24v24H0V0z\" fill=\"none\"/>\n",
              "    <path d=\"M18.56 5.44l.94 2.06.94-2.06 2.06-.94-2.06-.94-.94-2.06-.94 2.06-2.06.94zm-11 1L8.5 8.5l.94-2.06 2.06-.94-2.06-.94L8.5 2.5l-.94 2.06-2.06.94zm10 10l.94 2.06.94-2.06 2.06-.94-2.06-.94-.94-2.06-.94 2.06-2.06.94z\"/><path d=\"M17.41 7.96l-1.37-1.37c-.4-.4-.92-.59-1.43-.59-.52 0-1.04.2-1.43.59L10.3 9.45l-7.72 7.72c-.78.78-.78 2.05 0 2.83L4 21.41c.39.39.9.59 1.41.59.51 0 1.02-.2 1.41-.59l7.78-7.78 2.81-2.81c.8-.78.8-2.07 0-2.86zM5.41 20L4 18.59l7.72-7.72 1.47 1.35L5.41 20z\"/>\n",
              "  </svg>\n",
              "      </button>\n",
              "      \n",
              "  <style>\n",
              "    .colab-df-container {\n",
              "      display:flex;\n",
              "      flex-wrap:wrap;\n",
              "      gap: 12px;\n",
              "    }\n",
              "\n",
              "    .colab-df-convert {\n",
              "      background-color: #E8F0FE;\n",
              "      border: none;\n",
              "      border-radius: 50%;\n",
              "      cursor: pointer;\n",
              "      display: none;\n",
              "      fill: #1967D2;\n",
              "      height: 32px;\n",
              "      padding: 0 0 0 0;\n",
              "      width: 32px;\n",
              "    }\n",
              "\n",
              "    .colab-df-convert:hover {\n",
              "      background-color: #E2EBFA;\n",
              "      box-shadow: 0px 1px 2px rgba(60, 64, 67, 0.3), 0px 1px 3px 1px rgba(60, 64, 67, 0.15);\n",
              "      fill: #174EA6;\n",
              "    }\n",
              "\n",
              "    [theme=dark] .colab-df-convert {\n",
              "      background-color: #3B4455;\n",
              "      fill: #D2E3FC;\n",
              "    }\n",
              "\n",
              "    [theme=dark] .colab-df-convert:hover {\n",
              "      background-color: #434B5C;\n",
              "      box-shadow: 0px 1px 3px 1px rgba(0, 0, 0, 0.15);\n",
              "      filter: drop-shadow(0px 1px 2px rgba(0, 0, 0, 0.3));\n",
              "      fill: #FFFFFF;\n",
              "    }\n",
              "  </style>\n",
              "\n",
              "      <script>\n",
              "        const buttonEl =\n",
              "          document.querySelector('#df-e5b4db49-0251-4209-8b46-255583dd225d button.colab-df-convert');\n",
              "        buttonEl.style.display =\n",
              "          google.colab.kernel.accessAllowed ? 'block' : 'none';\n",
              "\n",
              "        async function convertToInteractive(key) {\n",
              "          const element = document.querySelector('#df-e5b4db49-0251-4209-8b46-255583dd225d');\n",
              "          const dataTable =\n",
              "            await google.colab.kernel.invokeFunction('convertToInteractive',\n",
              "                                                     [key], {});\n",
              "          if (!dataTable) return;\n",
              "\n",
              "          const docLinkHtml = 'Like what you see? Visit the ' +\n",
              "            '<a target=\"_blank\" href=https://colab.research.google.com/notebooks/data_table.ipynb>data table notebook</a>'\n",
              "            + ' to learn more about interactive tables.';\n",
              "          element.innerHTML = '';\n",
              "          dataTable['output_type'] = 'display_data';\n",
              "          await google.colab.output.renderOutput(dataTable, element);\n",
              "          const docLink = document.createElement('div');\n",
              "          docLink.innerHTML = docLinkHtml;\n",
              "          element.appendChild(docLink);\n",
              "        }\n",
              "      </script>\n",
              "    </div>\n",
              "  </div>\n",
              "  "
            ]
          },
          "metadata": {},
          "execution_count": 4
        }
      ]
    },
    {
      "cell_type": "markdown",
      "source": [
        "**GROUP BY**"
      ],
      "metadata": {
        "id": "cvlvzBmBELsm"
      }
    },
    {
      "cell_type": "code",
      "source": [
        "data={'company':['fb','tik','zodo','ola','tin'],\n",
        "      'person':['sam','jam','nile','kile','jhon'],\n",
        "      'sales':[2000,3000,4000,5000,6000]}\n",
        "df=pd.DataFrame(data)\n",
        "print(df)\n",
        "group=df.groupby('company')\n",
        "print(group.mean())\n",
        "print(group.sum())\n",
        "print(df.groupby('company').describe())"
      ],
      "metadata": {
        "colab": {
          "base_uri": "https://localhost:8080/"
        },
        "id": "y40IETnnER4-",
        "outputId": "9ba73889-b46d-4989-bee7-f41ae6f6e32c"
      },
      "execution_count": 5,
      "outputs": [
        {
          "output_type": "stream",
          "name": "stdout",
          "text": [
            "  company person  sales\n",
            "0      fb    sam   2000\n",
            "1     tik    jam   3000\n",
            "2    zodo   nile   4000\n",
            "3     ola   kile   5000\n",
            "4     tin   jhon   6000\n",
            "          sales\n",
            "company        \n",
            "fb       2000.0\n",
            "ola      5000.0\n",
            "tik      3000.0\n",
            "tin      6000.0\n",
            "zodo     4000.0\n",
            "         sales\n",
            "company       \n",
            "fb        2000\n",
            "ola       5000\n",
            "tik       3000\n",
            "tin       6000\n",
            "zodo      4000\n",
            "        sales                                                    \n",
            "        count    mean std     min     25%     50%     75%     max\n",
            "company                                                          \n",
            "fb        1.0  2000.0 NaN  2000.0  2000.0  2000.0  2000.0  2000.0\n",
            "ola       1.0  5000.0 NaN  5000.0  5000.0  5000.0  5000.0  5000.0\n",
            "tik       1.0  3000.0 NaN  3000.0  3000.0  3000.0  3000.0  3000.0\n",
            "tin       1.0  6000.0 NaN  6000.0  6000.0  6000.0  6000.0  6000.0\n",
            "zodo      1.0  4000.0 NaN  4000.0  4000.0  4000.0  4000.0  4000.0\n"
          ]
        },
        {
          "output_type": "stream",
          "name": "stderr",
          "text": [
            "<ipython-input-5-5a51a7b89896>:7: FutureWarning: The default value of numeric_only in DataFrameGroupBy.mean is deprecated. In a future version, numeric_only will default to False. Either specify numeric_only or select only columns which should be valid for the function.\n",
            "  print(group.mean())\n",
            "<ipython-input-5-5a51a7b89896>:8: FutureWarning: The default value of numeric_only in DataFrameGroupBy.sum is deprecated. In a future version, numeric_only will default to False. Either specify numeric_only or select only columns which should be valid for the function.\n",
            "  print(group.sum())\n"
          ]
        }
      ]
    },
    {
      "cell_type": "markdown",
      "source": [
        "**JOIN**"
      ],
      "metadata": {
        "id": "6HvzV9uDJRtw"
      }
    },
    {
      "cell_type": "code",
      "source": [
        "left=pd.DataFrame({'A':['a1','a2','a3'],\n",
        "                   'B':['b1','b2','b3']},\n",
        "                   index=['i1','i2','i3'])\n",
        "right=pd.DataFrame({'C':['c1','c2','c3'],\n",
        "                   'D':['d1','d2','d3']},\n",
        "                   index=['i0','i2','i3'])\n",
        "print(left )\n",
        "print(right)\n",
        "print(left.join(right))\n",
        "print(left.join(right,how='outer'))\n",
        "print(left.join(right,how='inner'))"
      ],
      "metadata": {
        "colab": {
          "base_uri": "https://localhost:8080/"
        },
        "id": "cBn6G1ySJVCS",
        "outputId": "ded28a5f-1bb4-48d5-904a-2f1a2db4233c"
      },
      "execution_count": 7,
      "outputs": [
        {
          "output_type": "stream",
          "name": "stdout",
          "text": [
            "     A   B\n",
            "i1  a1  b1\n",
            "i2  a2  b2\n",
            "i3  a3  b3\n",
            "     C   D\n",
            "i0  c1  d1\n",
            "i2  c2  d2\n",
            "i3  c3  d3\n",
            "     A   B    C    D\n",
            "i1  a1  b1  NaN  NaN\n",
            "i2  a2  b2   c2   d2\n",
            "i3  a3  b3   c3   d3\n",
            "      A    B    C    D\n",
            "i0  NaN  NaN   c1   d1\n",
            "i1   a1   b1  NaN  NaN\n",
            "i2   a2   b2   c2   d2\n",
            "i3   a3   b3   c3   d3\n",
            "     A   B   C   D\n",
            "i2  a2  b2  c2  d2\n",
            "i3  a3  b3  c3  d3\n"
          ]
        }
      ]
    },
    {
      "cell_type": "markdown",
      "source": [
        "**HEAD() AND UNIQUE VALUES**"
      ],
      "metadata": {
        "id": "qCKLVAgccpf3"
      }
    },
    {
      "cell_type": "code",
      "source": [
        "df=pd.DataFrame({'col1':[1,2,3,4,5,6],\n",
        "                 'col2':[111,222,333,444,555,666],\n",
        "                 'col3':'aaa bbb ccc ddd ee ff'.split()})\n",
        "df\n",
        "print(df.head())\n",
        "print(df.tail())\n",
        "print(df['col1'].unique())\n",
        "print(df['col1'].nunique())\n",
        "print(df['col1'].value_counts())"
      ],
      "metadata": {
        "colab": {
          "base_uri": "https://localhost:8080/"
        },
        "id": "k_iwc4vocyG5",
        "outputId": "f0e6951e-0144-4ce2-b394-dc638423d806"
      },
      "execution_count": 20,
      "outputs": [
        {
          "output_type": "stream",
          "name": "stdout",
          "text": [
            "   col1  col2 col3\n",
            "0     1   111  aaa\n",
            "1     2   222  bbb\n",
            "2     3   333  ccc\n",
            "3     4   444  ddd\n",
            "4     5   555   ee\n",
            "   col1  col2 col3\n",
            "1     2   222  bbb\n",
            "2     3   333  ccc\n",
            "3     4   444  ddd\n",
            "4     5   555   ee\n",
            "5     6   666   ff\n",
            "[1 2 3 4 5 6]\n",
            "6\n",
            "1    1\n",
            "2    1\n",
            "3    1\n",
            "4    1\n",
            "5    1\n",
            "6    1\n",
            "Name: col1, dtype: int64\n"
          ]
        }
      ]
    },
    {
      "cell_type": "markdown",
      "source": [
        "**Apply function**"
      ],
      "metadata": {
        "id": "Y41cDra1ih_3"
      }
    },
    {
      "cell_type": "code",
      "source": [
        "def testfunc(x):\n",
        "  if(x>500):\n",
        "    return(10*np.log10(x))\n",
        "  else:\n",
        "      return(x/10)\n",
        "\n",
        "#Using def function\n",
        "df['fun']=df['col2'].apply(testfunc)\n",
        "print(df)\n",
        "df['fun'].apply(lambda x:np.sqrt(x))"
      ],
      "metadata": {
        "colab": {
          "base_uri": "https://localhost:8080/"
        },
        "id": "iTyumOkWipnf",
        "outputId": "d644bbea-5ce9-450d-fce8-c1a58e049d5b"
      },
      "execution_count": 29,
      "outputs": [
        {
          "output_type": "stream",
          "name": "stdout",
          "text": [
            "   col1  col2 col3        fun\n",
            "0     1   111  aaa  11.100000\n",
            "1     2   222  bbb  22.200000\n",
            "2     3   333  ccc  33.300000\n",
            "3     4   444  ddd  44.400000\n",
            "4     5   555   ee  27.442930\n",
            "5     6   666   ff  28.234742\n"
          ]
        },
        {
          "output_type": "execute_result",
          "data": {
            "text/plain": [
              "0    3.331666\n",
              "1    4.711688\n",
              "2    5.770615\n",
              "3    6.663332\n",
              "4    5.238600\n",
              "5    5.313637\n",
              "Name: fun, dtype: float64"
            ]
          },
          "metadata": {},
          "execution_count": 29
        }
      ]
    }
  ]
}